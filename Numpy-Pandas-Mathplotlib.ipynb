{
 "cells": [
  {
   "cell_type": "markdown",
   "id": "e236b88e-6932-4085-bd0c-fd6bf10a8098",
   "metadata": {},
   "source": [
    "# This code is my new code in Python after 3 years\n",
    "Jupyter is so fantastic editor to do a code.\n",
    "so, let`s get started :)"
   ]
  },
  {
   "cell_type": "code",
   "execution_count": null,
   "id": "99cbd5ff-1afc-4ce0-a1d9-c71be8a9b017",
   "metadata": {},
   "outputs": [],
   "source": [
    "import math"
   ]
  },
  {
   "cell_type": "code",
   "execution_count": 3,
   "id": "31fa7ce4-3223-48af-ba0c-1dcdde8028a5",
   "metadata": {},
   "outputs": [],
   "source": [
    "atieh=23\n",
    "pi=3.14"
   ]
  },
  {
   "cell_type": "code",
   "execution_count": 5,
   "id": "d1c07fd4-7b88-42d8-9a75-9f3eae77781b",
   "metadata": {},
   "outputs": [
    {
     "data": {
      "text/plain": [
       "26.14"
      ]
     },
     "execution_count": 5,
     "metadata": {},
     "output_type": "execute_result"
    }
   ],
   "source": [
    "def jam(a,b):\n",
    "    return a+b\n",
    "jam(atieh,pi)"
   ]
  },
  {
   "cell_type": "markdown",
   "id": "a0c58ea2-ba33-40d8-a6f2-726ea751710c",
   "metadata": {},
   "source": [
    "# numpy "
   ]
  },
  {
   "cell_type": "code",
   "execution_count": 8,
   "id": "9d5ae47a-50c3-4b1c-9afb-0e360058b442",
   "metadata": {},
   "outputs": [],
   "source": [
    "import numpy as np"
   ]
  },
  {
   "cell_type": "markdown",
   "id": "c9228978-d9ae-47f1-a5f8-eb44dbdf8c4f",
   "metadata": {},
   "source": [
    "## lets do some basic stuff :)"
   ]
  },
  {
   "cell_type": "code",
   "execution_count": 10,
   "id": "aecb94c4-fcc4-444d-a3c5-d07b5c68e895",
   "metadata": {},
   "outputs": [
    {
     "data": {
      "text/plain": [
       "array(5)"
      ]
     },
     "execution_count": 10,
     "metadata": {},
     "output_type": "execute_result"
    }
   ],
   "source": [
    "a=np.array(5)\n",
    "a"
   ]
  },
  {
   "cell_type": "code",
   "execution_count": 11,
   "id": "20d48645-5bba-412b-a6fa-cd20a307bd1d",
   "metadata": {},
   "outputs": [],
   "source": [
    "a=np.arange(15)"
   ]
  },
  {
   "cell_type": "code",
   "execution_count": 12,
   "id": "4da7f4ca-5fb6-4383-90f7-7c3131b421c1",
   "metadata": {},
   "outputs": [
    {
     "data": {
      "text/plain": [
       "array([ 0,  1,  2,  3,  4,  5,  6,  7,  8,  9, 10, 11, 12, 13, 14])"
      ]
     },
     "execution_count": 12,
     "metadata": {},
     "output_type": "execute_result"
    }
   ],
   "source": [
    "a"
   ]
  },
  {
   "cell_type": "code",
   "execution_count": 13,
   "id": "6792a8c2-80cc-4686-9c0c-269379a4b2e9",
   "metadata": {},
   "outputs": [
    {
     "data": {
      "text/plain": [
       "array([ 0,  1,  2,  3,  4,  5,  6,  7,  8,  9, 10, 11, 12, 13, 14])"
      ]
     },
     "execution_count": 13,
     "metadata": {},
     "output_type": "execute_result"
    }
   ],
   "source": [
    "a.reshape(3,5)\n",
    "a"
   ]
  },
  {
   "cell_type": "code",
   "execution_count": 16,
   "id": "094d3b45-cf65-407a-a98b-7cd06546b5ae",
   "metadata": {},
   "outputs": [],
   "source": [
    "a=a.reshape(3,5)"
   ]
  },
  {
   "cell_type": "code",
   "execution_count": 17,
   "id": "0922e359-cc05-476f-95bb-d0bf042e2056",
   "metadata": {},
   "outputs": [
    {
     "data": {
      "text/plain": [
       "(3, 5)"
      ]
     },
     "execution_count": 17,
     "metadata": {},
     "output_type": "execute_result"
    }
   ],
   "source": [
    "a.shape"
   ]
  },
  {
   "cell_type": "code",
   "execution_count": 18,
   "id": "c7a531db-657b-41fc-9396-dc1c7698325d",
   "metadata": {},
   "outputs": [
    {
     "name": "stdout",
     "output_type": "stream",
     "text": [
      "2\n",
      "15\n",
      "int32\n"
     ]
    }
   ],
   "source": [
    "print (a.ndim)\n",
    "print (a.size)\n",
    "print (a.dtype)"
   ]
  },
  {
   "cell_type": "code",
   "execution_count": 21,
   "id": "4c76c7b2-6577-44ea-9809-191ddd209d37",
   "metadata": {},
   "outputs": [
    {
     "data": {
      "text/plain": [
       "array([[1., 1., 1., 1.],\n",
       "       [1., 1., 1., 1.],\n",
       "       [1., 1., 1., 1.]])"
      ]
     },
     "execution_count": 21,
     "metadata": {},
     "output_type": "execute_result"
    }
   ],
   "source": [
    "np.ones((3,4))"
   ]
  },
  {
   "cell_type": "code",
   "execution_count": 22,
   "id": "d171ad45-72ff-4909-bcdc-062a85a3f954",
   "metadata": {},
   "outputs": [
    {
     "data": {
      "text/plain": [
       "array([[0., 0., 0., 0., 0.],\n",
       "       [0., 0., 0., 0., 0.]])"
      ]
     },
     "execution_count": 22,
     "metadata": {},
     "output_type": "execute_result"
    }
   ],
   "source": [
    "np.zeros((2,5))"
   ]
  },
  {
   "cell_type": "markdown",
   "id": "18d32de4-03f6-4c00-8e13-23d77d64d3bc",
   "metadata": {},
   "source": [
    "## Some operations"
   ]
  },
  {
   "cell_type": "code",
   "execution_count": 23,
   "id": "fc614898-3902-4bde-ad81-2446626b337a",
   "metadata": {},
   "outputs": [],
   "source": [
    "a=np.array([20,30,40,50])\n",
    "b=np.arange(4)\n"
   ]
  },
  {
   "cell_type": "code",
   "execution_count": 24,
   "id": "d0a12bf8-023e-4273-84a2-2f656ac7e625",
   "metadata": {},
   "outputs": [
    {
     "data": {
      "text/plain": [
       "array([20, 30, 40, 50])"
      ]
     },
     "execution_count": 24,
     "metadata": {},
     "output_type": "execute_result"
    }
   ],
   "source": [
    "a"
   ]
  },
  {
   "cell_type": "code",
   "execution_count": 25,
   "id": "e4858172-c6cc-4bee-bc6a-7673a80e85ac",
   "metadata": {},
   "outputs": [
    {
     "data": {
      "text/plain": [
       "array([0, 1, 2, 3])"
      ]
     },
     "execution_count": 25,
     "metadata": {},
     "output_type": "execute_result"
    }
   ],
   "source": [
    "b"
   ]
  },
  {
   "cell_type": "code",
   "execution_count": 26,
   "id": "ea91ce42-0ac8-4961-86a6-0f3c784f16c9",
   "metadata": {},
   "outputs": [
    {
     "data": {
      "text/plain": [
       "array([20, 29, 38, 47])"
      ]
     },
     "execution_count": 26,
     "metadata": {},
     "output_type": "execute_result"
    }
   ],
   "source": [
    "a - b"
   ]
  },
  {
   "cell_type": "code",
   "execution_count": 27,
   "id": "730e2951-ecd3-437d-9c6d-962bb43f03bc",
   "metadata": {},
   "outputs": [
    {
     "data": {
      "text/plain": [
       "array([20, 31, 42, 53])"
      ]
     },
     "execution_count": 27,
     "metadata": {},
     "output_type": "execute_result"
    }
   ],
   "source": [
    "a + b"
   ]
  },
  {
   "cell_type": "code",
   "execution_count": 29,
   "id": "1665e061-9f78-4aee-91fb-3dff1460e5ee",
   "metadata": {},
   "outputs": [],
   "source": [
    "c=a * b"
   ]
  },
  {
   "cell_type": "code",
   "execution_count": 30,
   "id": "bd88a460-f333-4051-a020-f7eace7fd971",
   "metadata": {},
   "outputs": [
    {
     "data": {
      "text/plain": [
       "array([False, False,  True,  True])"
      ]
     },
     "execution_count": 30,
     "metadata": {},
     "output_type": "execute_result"
    }
   ],
   "source": [
    "c>50"
   ]
  },
  {
   "cell_type": "markdown",
   "id": "b3cf80aa-6e28-41d3-b3f4-54516be9b890",
   "metadata": {},
   "source": [
    "# pandas"
   ]
  },
  {
   "cell_type": "code",
   "execution_count": 6,
   "id": "fd30ac34-22ff-445f-a4b7-31cfd7a931db",
   "metadata": {},
   "outputs": [],
   "source": [
    "import pandas as pd"
   ]
  },
  {
   "cell_type": "code",
   "execution_count": 32,
   "id": "1607135b-0463-4e61-9ccf-686b63830a04",
   "metadata": {},
   "outputs": [
    {
     "data": {
      "text/plain": [
       "0        1\n",
       "1        2\n",
       "2        3\n",
       "3    Atieh\n",
       "4        0\n",
       "5      NaN\n",
       "6       -1\n",
       "dtype: object"
      ]
     },
     "execution_count": 32,
     "metadata": {},
     "output_type": "execute_result"
    }
   ],
   "source": [
    "pd.Series([1,2,3,'Atieh',0, np.nan,-1])"
   ]
  },
  {
   "cell_type": "code",
   "execution_count": 10,
   "id": "adb8e380-2181-41e7-abaf-f50cefcb722e",
   "metadata": {},
   "outputs": [
    {
     "data": {
      "text/plain": [
       "DatetimeIndex(['2021-01-01', '2021-01-02', '2021-01-03', '2021-01-04',\n",
       "               '2021-01-05', '2021-01-06'],\n",
       "              dtype='datetime64[ns]', freq='D')"
      ]
     },
     "execution_count": 10,
     "metadata": {},
     "output_type": "execute_result"
    }
   ],
   "source": [
    "dates = pd.date_range(\"20210101\", periods=6)\n",
    "dates"
   ]
  },
  {
   "cell_type": "code",
   "execution_count": 11,
   "id": "b5b28738-ebec-4d4c-ae2e-bd586812dd4d",
   "metadata": {},
   "outputs": [],
   "source": [
    "df= pd.DataFrame(np.random.randn(6,4), index=dates)"
   ]
  },
  {
   "cell_type": "code",
   "execution_count": null,
   "id": "4235cd2c-e6e9-4de5-95fa-b6031b1999cb",
   "metadata": {},
   "outputs": [],
   "source": [
    "df"
   ]
  },
  {
   "cell_type": "code",
   "execution_count": 12,
   "id": "24639a3d-7059-48d1-b51a-1888fec8bc48",
   "metadata": {},
   "outputs": [
    {
     "data": {
      "text/html": [
       "<div>\n",
       "<style scoped>\n",
       "    .dataframe tbody tr th:only-of-type {\n",
       "        vertical-align: middle;\n",
       "    }\n",
       "\n",
       "    .dataframe tbody tr th {\n",
       "        vertical-align: top;\n",
       "    }\n",
       "\n",
       "    .dataframe thead th {\n",
       "        text-align: right;\n",
       "    }\n",
       "</style>\n",
       "<table border=\"1\" class=\"dataframe\">\n",
       "  <thead>\n",
       "    <tr style=\"text-align: right;\">\n",
       "      <th></th>\n",
       "      <th>A</th>\n",
       "      <th>B</th>\n",
       "      <th>C</th>\n",
       "      <th>D</th>\n",
       "    </tr>\n",
       "  </thead>\n",
       "  <tbody>\n",
       "    <tr>\n",
       "      <th>2021-01-01</th>\n",
       "      <td>0.239628</td>\n",
       "      <td>1.678434</td>\n",
       "      <td>1.023643</td>\n",
       "      <td>-2.137158</td>\n",
       "    </tr>\n",
       "    <tr>\n",
       "      <th>2021-01-02</th>\n",
       "      <td>2.562283</td>\n",
       "      <td>1.407433</td>\n",
       "      <td>0.658741</td>\n",
       "      <td>1.040921</td>\n",
       "    </tr>\n",
       "    <tr>\n",
       "      <th>2021-01-03</th>\n",
       "      <td>0.888722</td>\n",
       "      <td>1.220818</td>\n",
       "      <td>-0.420728</td>\n",
       "      <td>-1.995497</td>\n",
       "    </tr>\n",
       "    <tr>\n",
       "      <th>2021-01-04</th>\n",
       "      <td>2.127116</td>\n",
       "      <td>-0.177387</td>\n",
       "      <td>1.402853</td>\n",
       "      <td>-0.118328</td>\n",
       "    </tr>\n",
       "    <tr>\n",
       "      <th>2021-01-05</th>\n",
       "      <td>0.311091</td>\n",
       "      <td>-0.036781</td>\n",
       "      <td>0.169197</td>\n",
       "      <td>-1.160418</td>\n",
       "    </tr>\n",
       "    <tr>\n",
       "      <th>2021-01-06</th>\n",
       "      <td>-0.725994</td>\n",
       "      <td>0.174911</td>\n",
       "      <td>2.440811</td>\n",
       "      <td>1.276602</td>\n",
       "    </tr>\n",
       "  </tbody>\n",
       "</table>\n",
       "</div>"
      ],
      "text/plain": [
       "                   A         B         C         D\n",
       "2021-01-01  0.239628  1.678434  1.023643 -2.137158\n",
       "2021-01-02  2.562283  1.407433  0.658741  1.040921\n",
       "2021-01-03  0.888722  1.220818 -0.420728 -1.995497\n",
       "2021-01-04  2.127116 -0.177387  1.402853 -0.118328\n",
       "2021-01-05  0.311091 -0.036781  0.169197 -1.160418\n",
       "2021-01-06 -0.725994  0.174911  2.440811  1.276602"
      ]
     },
     "execution_count": 12,
     "metadata": {},
     "output_type": "execute_result"
    }
   ],
   "source": [
    "df= pd.DataFrame(np.random.randn(6,4), index=dates,columns=[\"A\",\"B\",\"C\",\"D\"])\n",
    "df"
   ]
  },
  {
   "cell_type": "code",
   "execution_count": 40,
   "id": "38f4fd51-106b-4726-82e7-682ed32d3e66",
   "metadata": {},
   "outputs": [
    {
     "data": {
      "text/plain": [
       "2021-01-01   -0.035012\n",
       "2021-01-02   -0.365687\n",
       "2021-01-03   -0.563341\n",
       "2021-01-04   -0.213387\n",
       "2021-01-05   -0.081281\n",
       "2021-01-06   -1.369277\n",
       "Freq: D, Name: A, dtype: float64"
      ]
     },
     "execution_count": 40,
     "metadata": {},
     "output_type": "execute_result"
    }
   ],
   "source": [
    "df[\"A\"]\n"
   ]
  },
  {
   "cell_type": "code",
   "execution_count": 41,
   "id": "d70e30c6-86a1-4fe1-a7ce-497336f34c81",
   "metadata": {},
   "outputs": [
    {
     "data": {
      "text/html": [
       "<div>\n",
       "<style scoped>\n",
       "    .dataframe tbody tr th:only-of-type {\n",
       "        vertical-align: middle;\n",
       "    }\n",
       "\n",
       "    .dataframe tbody tr th {\n",
       "        vertical-align: top;\n",
       "    }\n",
       "\n",
       "    .dataframe thead th {\n",
       "        text-align: right;\n",
       "    }\n",
       "</style>\n",
       "<table border=\"1\" class=\"dataframe\">\n",
       "  <thead>\n",
       "    <tr style=\"text-align: right;\">\n",
       "      <th></th>\n",
       "      <th>A</th>\n",
       "      <th>B</th>\n",
       "      <th>C</th>\n",
       "      <th>D</th>\n",
       "    </tr>\n",
       "  </thead>\n",
       "  <tbody>\n",
       "    <tr>\n",
       "      <th>2021-01-01</th>\n",
       "      <td>-0.035012</td>\n",
       "      <td>-0.748287</td>\n",
       "      <td>0.900392</td>\n",
       "      <td>-0.143482</td>\n",
       "    </tr>\n",
       "    <tr>\n",
       "      <th>2021-01-02</th>\n",
       "      <td>-0.365687</td>\n",
       "      <td>-0.176406</td>\n",
       "      <td>1.515521</td>\n",
       "      <td>-1.246658</td>\n",
       "    </tr>\n",
       "  </tbody>\n",
       "</table>\n",
       "</div>"
      ],
      "text/plain": [
       "                   A         B         C         D\n",
       "2021-01-01 -0.035012 -0.748287  0.900392 -0.143482\n",
       "2021-01-02 -0.365687 -0.176406  1.515521 -1.246658"
      ]
     },
     "execution_count": 41,
     "metadata": {},
     "output_type": "execute_result"
    }
   ],
   "source": [
    "df.head(2)"
   ]
  },
  {
   "cell_type": "code",
   "execution_count": 42,
   "id": "505b86b8-9473-49a3-894e-412279df4aa6",
   "metadata": {},
   "outputs": [
    {
     "data": {
      "text/html": [
       "<div>\n",
       "<style scoped>\n",
       "    .dataframe tbody tr th:only-of-type {\n",
       "        vertical-align: middle;\n",
       "    }\n",
       "\n",
       "    .dataframe tbody tr th {\n",
       "        vertical-align: top;\n",
       "    }\n",
       "\n",
       "    .dataframe thead th {\n",
       "        text-align: right;\n",
       "    }\n",
       "</style>\n",
       "<table border=\"1\" class=\"dataframe\">\n",
       "  <thead>\n",
       "    <tr style=\"text-align: right;\">\n",
       "      <th></th>\n",
       "      <th>A</th>\n",
       "      <th>B</th>\n",
       "      <th>C</th>\n",
       "      <th>D</th>\n",
       "    </tr>\n",
       "  </thead>\n",
       "  <tbody>\n",
       "    <tr>\n",
       "      <th>count</th>\n",
       "      <td>6.000000</td>\n",
       "      <td>6.000000</td>\n",
       "      <td>6.000000</td>\n",
       "      <td>6.000000</td>\n",
       "    </tr>\n",
       "    <tr>\n",
       "      <th>mean</th>\n",
       "      <td>-0.437998</td>\n",
       "      <td>0.058816</td>\n",
       "      <td>1.308442</td>\n",
       "      <td>-0.245546</td>\n",
       "    </tr>\n",
       "    <tr>\n",
       "      <th>std</th>\n",
       "      <td>0.495644</td>\n",
       "      <td>0.617067</td>\n",
       "      <td>1.153339</td>\n",
       "      <td>0.627772</td>\n",
       "    </tr>\n",
       "    <tr>\n",
       "      <th>min</th>\n",
       "      <td>-1.369277</td>\n",
       "      <td>-0.748287</td>\n",
       "      <td>0.422488</td>\n",
       "      <td>-1.246658</td>\n",
       "    </tr>\n",
       "    <tr>\n",
       "      <th>25%</th>\n",
       "      <td>-0.513927</td>\n",
       "      <td>-0.311099</td>\n",
       "      <td>0.638458</td>\n",
       "      <td>-0.566405</td>\n",
       "    </tr>\n",
       "    <tr>\n",
       "      <th>50%</th>\n",
       "      <td>-0.289537</td>\n",
       "      <td>0.006589</td>\n",
       "      <td>0.915224</td>\n",
       "      <td>-0.054720</td>\n",
       "    </tr>\n",
       "    <tr>\n",
       "      <th>75%</th>\n",
       "      <td>-0.114307</td>\n",
       "      <td>0.398929</td>\n",
       "      <td>1.369155</td>\n",
       "      <td>0.078170</td>\n",
       "    </tr>\n",
       "    <tr>\n",
       "      <th>max</th>\n",
       "      <td>-0.035012</td>\n",
       "      <td>0.975292</td>\n",
       "      <td>3.531050</td>\n",
       "      <td>0.497324</td>\n",
       "    </tr>\n",
       "  </tbody>\n",
       "</table>\n",
       "</div>"
      ],
      "text/plain": [
       "              A         B         C         D\n",
       "count  6.000000  6.000000  6.000000  6.000000\n",
       "mean  -0.437998  0.058816  1.308442 -0.245546\n",
       "std    0.495644  0.617067  1.153339  0.627772\n",
       "min   -1.369277 -0.748287  0.422488 -1.246658\n",
       "25%   -0.513927 -0.311099  0.638458 -0.566405\n",
       "50%   -0.289537  0.006589  0.915224 -0.054720\n",
       "75%   -0.114307  0.398929  1.369155  0.078170\n",
       "max   -0.035012  0.975292  3.531050  0.497324"
      ]
     },
     "execution_count": 42,
     "metadata": {},
     "output_type": "execute_result"
    }
   ],
   "source": [
    "df.describe()"
   ]
  },
  {
   "cell_type": "code",
   "execution_count": 43,
   "id": "6318c582-c4c0-426f-a145-ce3fc0c67222",
   "metadata": {},
   "outputs": [
    {
     "data": {
      "text/plain": [
       "A   -0.437998\n",
       "B    0.058816\n",
       "C    1.308442\n",
       "D   -0.245546\n",
       "dtype: float64"
      ]
     },
     "execution_count": 43,
     "metadata": {},
     "output_type": "execute_result"
    }
   ],
   "source": [
    "df.mean()"
   ]
  },
  {
   "cell_type": "code",
   "execution_count": 44,
   "id": "71861f45-26a1-447b-9fdf-675825bf84a0",
   "metadata": {},
   "outputs": [
    {
     "data": {
      "text/html": [
       "<div>\n",
       "<style scoped>\n",
       "    .dataframe tbody tr th:only-of-type {\n",
       "        vertical-align: middle;\n",
       "    }\n",
       "\n",
       "    .dataframe tbody tr th {\n",
       "        vertical-align: top;\n",
       "    }\n",
       "\n",
       "    .dataframe thead th {\n",
       "        text-align: right;\n",
       "    }\n",
       "</style>\n",
       "<table border=\"1\" class=\"dataframe\">\n",
       "  <thead>\n",
       "    <tr style=\"text-align: right;\">\n",
       "      <th></th>\n",
       "      <th>2021-01-01</th>\n",
       "      <th>2021-01-02</th>\n",
       "      <th>2021-01-03</th>\n",
       "      <th>2021-01-04</th>\n",
       "      <th>2021-01-05</th>\n",
       "      <th>2021-01-06</th>\n",
       "    </tr>\n",
       "  </thead>\n",
       "  <tbody>\n",
       "    <tr>\n",
       "      <th>A</th>\n",
       "      <td>-0.035012</td>\n",
       "      <td>-0.365687</td>\n",
       "      <td>-0.563341</td>\n",
       "      <td>-0.213387</td>\n",
       "      <td>-0.081281</td>\n",
       "      <td>-1.369277</td>\n",
       "    </tr>\n",
       "    <tr>\n",
       "      <th>B</th>\n",
       "      <td>-0.748287</td>\n",
       "      <td>-0.176406</td>\n",
       "      <td>-0.355997</td>\n",
       "      <td>0.975292</td>\n",
       "      <td>0.468710</td>\n",
       "      <td>0.189583</td>\n",
       "    </tr>\n",
       "    <tr>\n",
       "      <th>C</th>\n",
       "      <td>0.900392</td>\n",
       "      <td>1.515521</td>\n",
       "      <td>3.531050</td>\n",
       "      <td>0.551146</td>\n",
       "      <td>0.422488</td>\n",
       "      <td>0.930056</td>\n",
       "    </tr>\n",
       "    <tr>\n",
       "      <th>D</th>\n",
       "      <td>-0.143482</td>\n",
       "      <td>-1.246658</td>\n",
       "      <td>0.497324</td>\n",
       "      <td>-0.707379</td>\n",
       "      <td>0.092879</td>\n",
       "      <td>0.034042</td>\n",
       "    </tr>\n",
       "  </tbody>\n",
       "</table>\n",
       "</div>"
      ],
      "text/plain": [
       "   2021-01-01  2021-01-02  2021-01-03  2021-01-04  2021-01-05  2021-01-06\n",
       "A   -0.035012   -0.365687   -0.563341   -0.213387   -0.081281   -1.369277\n",
       "B   -0.748287   -0.176406   -0.355997    0.975292    0.468710    0.189583\n",
       "C    0.900392    1.515521    3.531050    0.551146    0.422488    0.930056\n",
       "D   -0.143482   -1.246658    0.497324   -0.707379    0.092879    0.034042"
      ]
     },
     "execution_count": 44,
     "metadata": {},
     "output_type": "execute_result"
    }
   ],
   "source": [
    "df.T"
   ]
  },
  {
   "cell_type": "code",
   "execution_count": 49,
   "id": "40a233e0-c0ec-423f-85f7-45e48f637b65",
   "metadata": {},
   "outputs": [
    {
     "data": {
      "text/html": [
       "<div>\n",
       "<style scoped>\n",
       "    .dataframe tbody tr th:only-of-type {\n",
       "        vertical-align: middle;\n",
       "    }\n",
       "\n",
       "    .dataframe tbody tr th {\n",
       "        vertical-align: top;\n",
       "    }\n",
       "\n",
       "    .dataframe thead th {\n",
       "        text-align: right;\n",
       "    }\n",
       "</style>\n",
       "<table border=\"1\" class=\"dataframe\">\n",
       "  <thead>\n",
       "    <tr style=\"text-align: right;\">\n",
       "      <th></th>\n",
       "      <th>A</th>\n",
       "      <th>B</th>\n",
       "      <th>C</th>\n",
       "      <th>D</th>\n",
       "    </tr>\n",
       "  </thead>\n",
       "  <tbody>\n",
       "    <tr>\n",
       "      <th>2021-01-05</th>\n",
       "      <td>-0.081281</td>\n",
       "      <td>0.468710</td>\n",
       "      <td>0.422488</td>\n",
       "      <td>0.092879</td>\n",
       "    </tr>\n",
       "    <tr>\n",
       "      <th>2021-01-04</th>\n",
       "      <td>-0.213387</td>\n",
       "      <td>0.975292</td>\n",
       "      <td>0.551146</td>\n",
       "      <td>-0.707379</td>\n",
       "    </tr>\n",
       "    <tr>\n",
       "      <th>2021-01-01</th>\n",
       "      <td>-0.035012</td>\n",
       "      <td>-0.748287</td>\n",
       "      <td>0.900392</td>\n",
       "      <td>-0.143482</td>\n",
       "    </tr>\n",
       "    <tr>\n",
       "      <th>2021-01-06</th>\n",
       "      <td>-1.369277</td>\n",
       "      <td>0.189583</td>\n",
       "      <td>0.930056</td>\n",
       "      <td>0.034042</td>\n",
       "    </tr>\n",
       "    <tr>\n",
       "      <th>2021-01-02</th>\n",
       "      <td>-0.365687</td>\n",
       "      <td>-0.176406</td>\n",
       "      <td>1.515521</td>\n",
       "      <td>-1.246658</td>\n",
       "    </tr>\n",
       "    <tr>\n",
       "      <th>2021-01-03</th>\n",
       "      <td>-0.563341</td>\n",
       "      <td>-0.355997</td>\n",
       "      <td>3.531050</td>\n",
       "      <td>0.497324</td>\n",
       "    </tr>\n",
       "  </tbody>\n",
       "</table>\n",
       "</div>"
      ],
      "text/plain": [
       "                   A         B         C         D\n",
       "2021-01-05 -0.081281  0.468710  0.422488  0.092879\n",
       "2021-01-04 -0.213387  0.975292  0.551146 -0.707379\n",
       "2021-01-01 -0.035012 -0.748287  0.900392 -0.143482\n",
       "2021-01-06 -1.369277  0.189583  0.930056  0.034042\n",
       "2021-01-02 -0.365687 -0.176406  1.515521 -1.246658\n",
       "2021-01-03 -0.563341 -0.355997  3.531050  0.497324"
      ]
     },
     "execution_count": 49,
     "metadata": {},
     "output_type": "execute_result"
    }
   ],
   "source": [
    "df.sort_values(by=\"C\")"
   ]
  },
  {
   "cell_type": "code",
   "execution_count": 52,
   "id": "affb848d-044e-4da2-a3b4-450a887e762e",
   "metadata": {},
   "outputs": [
    {
     "data": {
      "text/html": [
       "<div>\n",
       "<style scoped>\n",
       "    .dataframe tbody tr th:only-of-type {\n",
       "        vertical-align: middle;\n",
       "    }\n",
       "\n",
       "    .dataframe tbody tr th {\n",
       "        vertical-align: top;\n",
       "    }\n",
       "\n",
       "    .dataframe thead th {\n",
       "        text-align: right;\n",
       "    }\n",
       "</style>\n",
       "<table border=\"1\" class=\"dataframe\">\n",
       "  <thead>\n",
       "    <tr style=\"text-align: right;\">\n",
       "      <th></th>\n",
       "      <th>A</th>\n",
       "      <th>B</th>\n",
       "      <th>C</th>\n",
       "      <th>D</th>\n",
       "    </tr>\n",
       "  </thead>\n",
       "  <tbody>\n",
       "    <tr>\n",
       "      <th>2021-01-04</th>\n",
       "      <td>-0.213387</td>\n",
       "      <td>0.975292</td>\n",
       "      <td>0.551146</td>\n",
       "      <td>-0.707379</td>\n",
       "    </tr>\n",
       "    <tr>\n",
       "      <th>2021-01-05</th>\n",
       "      <td>-0.081281</td>\n",
       "      <td>0.468710</td>\n",
       "      <td>0.422488</td>\n",
       "      <td>0.092879</td>\n",
       "    </tr>\n",
       "    <tr>\n",
       "      <th>2021-01-06</th>\n",
       "      <td>-1.369277</td>\n",
       "      <td>0.189583</td>\n",
       "      <td>0.930056</td>\n",
       "      <td>0.034042</td>\n",
       "    </tr>\n",
       "  </tbody>\n",
       "</table>\n",
       "</div>"
      ],
      "text/plain": [
       "                   A         B         C         D\n",
       "2021-01-04 -0.213387  0.975292  0.551146 -0.707379\n",
       "2021-01-05 -0.081281  0.468710  0.422488  0.092879\n",
       "2021-01-06 -1.369277  0.189583  0.930056  0.034042"
      ]
     },
     "execution_count": 52,
     "metadata": {},
     "output_type": "execute_result"
    }
   ],
   "source": [
    "df[df[\"B\"]>0]"
   ]
  },
  {
   "cell_type": "markdown",
   "id": "5362d99d-e86f-4046-a93a-ad1b54ce5c5f",
   "metadata": {},
   "source": [
    "## read and write operations"
   ]
  },
  {
   "cell_type": "code",
   "execution_count": 20,
   "id": "a763aff1-03cb-4fc4-af9e-9a7629a77b72",
   "metadata": {},
   "outputs": [],
   "source": [
    "#df.read_csv(\"myfile.csv\")\n",
    "df.to_csv('file1.csv')\n",
    "df.to_excel('file2.xlsx')"
   ]
  },
  {
   "cell_type": "markdown",
   "id": "f21ac3d4-b697-477b-937b-b490b7ff0ac4",
   "metadata": {},
   "source": [
    "# Matplotlib"
   ]
  },
  {
   "cell_type": "code",
   "execution_count": 21,
   "id": "8799228f-6d90-4c5f-b22c-7b71e2db4b88",
   "metadata": {},
   "outputs": [],
   "source": [
    "import matplotlib.pyplot as plt"
   ]
  },
  {
   "cell_type": "code",
   "execution_count": 26,
   "id": "93e8a8fb-328e-4223-a5b6-217b0dab900b",
   "metadata": {},
   "outputs": [
    {
     "data": {
      "text/plain": [
       "Text(0, 0.5, 'funny numbers')"
      ]
     },
     "execution_count": 26,
     "metadata": {},
     "output_type": "execute_result"
    },
    {
     "data": {
      "image/png": "[encoded data removed]",
      "text/plain": [
       "<Figure size 640x480 with 1 Axes>"
      ]
     },
     "metadata": {},
     "output_type": "display_data"
    }
   ],
   "source": [
    "plt.plot([1,2,3,4])\n",
    "plt.ylabel('funny numbers')"
   ]
  },
  {
   "cell_type": "code",
   "execution_count": 27,
   "id": "fd2197d8-2e90-41c1-8116-85259e52230e",
   "metadata": {},
   "outputs": [
    {
     "data": {
      "text/plain": [
       "[<matplotlib.lines.Line2D at 0x1820c4b1c10>]"
      ]
     },
     "execution_count": 27,
     "metadata": {},
     "output_type": "execute_result"
    },
    {
     "data": {
      "image/png": "[encoded data removed]",
      "text/plain": [
       "<Figure size 640x480 with 1 Axes>"
      ]
     },
     "metadata": {},
     "output_type": "display_data"
    }
   ],
   "source": [
    "plt.plot([1,3,4,9],[-1,8,1,2])"
   ]
  },
  {
   "cell_type": "code",
   "execution_count": 29,
   "id": "32a24de9-ead8-4502-9624-4b046bc7da1b",
   "metadata": {},
   "outputs": [
    {
     "data": {
      "text/plain": [
       "[<matplotlib.lines.Line2D at 0x1820cfba550>]"
      ]
     },
     "execution_count": 29,
     "metadata": {},
     "output_type": "execute_result"
    },
    {
     "data": {
      "image/png": "[encoded data removed]",
      "text/plain": [
       "<Figure size 640x480 with 1 Axes>"
      ]
     },
     "metadata": {},
     "output_type": "display_data"
    }
   ],
   "source": [
    "plt.plot([1,3,4,9],[-1,8,1,2],'ro')"
   ]
  },
  {
   "cell_type": "code",
   "execution_count": 30,
   "id": "2dbda363-0988-4a84-b95c-5612c3cc6b92",
   "metadata": {},
   "outputs": [],
   "source": [
    "t=np.arange(0,5,0.2)"
   ]
  },
  {
   "cell_type": "code",
   "execution_count": 31,
   "id": "069958e1-ec17-4ddf-b7a9-e38b347a7aaa",
   "metadata": {},
   "outputs": [
    {
     "data": {
      "text/plain": [
       "[<matplotlib.lines.Line2D at 0x1820d02b790>]"
      ]
     },
     "execution_count": 31,
     "metadata": {},
     "output_type": "execute_result"
    },
    {
     "data": {
      "image/png": "[encoded data removed]",
      "text/plain": [
       "<Figure size 640x480 with 1 Axes>"
      ]
     },
     "metadata": {},
     "output_type": "display_data"
    }
   ],
   "source": [
    "plt.plot(t,t)"
   ]
  },
  {
   "cell_type": "code",
   "execution_count": 32,
   "id": "b97e442f-9638-4bb7-a1ac-4ebba2ddbb2f",
   "metadata": {},
   "outputs": [
    {
     "data": {
      "text/plain": [
       "[<matplotlib.lines.Line2D at 0x1820ce95f50>]"
      ]
     },
     "execution_count": 32,
     "metadata": {},
     "output_type": "execute_result"
    },
    {
     "data": {
      "image/png": "[encoded data removed]",
      "text/plain": [
       "<Figure size 640x480 with 1 Axes>"
      ]
     },
     "metadata": {},
     "output_type": "display_data"
    }
   ],
   "source": [
    "plt.plot(t,t**2)"
   ]
  },
  {
   "cell_type": "code",
   "execution_count": 33,
   "id": "948b4afd-eb1b-470c-9d12-e9c322a68b39",
   "metadata": {},
   "outputs": [
    {
     "data": {
      "text/plain": [
       "[<matplotlib.lines.Line2D at 0x1820cff3410>]"
      ]
     },
     "execution_count": 33,
     "metadata": {},
     "output_type": "execute_result"
    },
    {
     "data": {
      "image/png": "[encoded data removed]",
      "text/plain": [
       "<Figure size 640x480 with 1 Axes>"
      ]
     },
     "metadata": {},
     "output_type": "display_data"
    }
   ],
   "source": [
    "plt.plot(t,t**t,'r--')"
   ]
  },
  {
   "cell_type": "code",
   "execution_count": 34,
   "id": "74c466dc-2ee5-490e-8ba8-4c3aabdc966b",
   "metadata": {},
   "outputs": [
    {
     "data": {
      "text/plain": [
       "[<matplotlib.lines.Line2D at 0x1820d0b9450>,\n",
       " <matplotlib.lines.Line2D at 0x1820d0b97d0>]"
      ]
     },
     "execution_count": 34,
     "metadata": {},
     "output_type": "execute_result"
    },
    {
     "data": {
      "image/png": "[encoded data removed]",
      "text/plain": [
       "<Figure size 640x480 with 1 Axes>"
      ]
     },
     "metadata": {},
     "output_type": "display_data"
    }
   ],
   "source": [
    "plt.plot(t,t**t,'r--', t,t**2,'bs')"
   ]
  },
  {
   "cell_type": "code",
   "execution_count": 35,
   "id": "8001de06-e226-4fde-a12e-c36612c41c1f",
   "metadata": {},
   "outputs": [
    {
     "data": {
      "text/plain": [
       "[<matplotlib.lines.Line2D at 0x1820cf3e0d0>,\n",
       " <matplotlib.lines.Line2D at 0x1820d0dc110>]"
      ]
     },
     "execution_count": 35,
     "metadata": {},
     "output_type": "execute_result"
    },
    {
     "data": {
      "image/png": "[encoded data removed]",
      "text/plain": [
       "<Figure size 640x480 with 1 Axes>"
      ]
     },
     "metadata": {},
     "output_type": "display_data"
    }
   ],
   "source": [
    "plt.plot(t,t,'r-', t,t**2,'bs')"
   ]
  },
  {
   "cell_type": "code",
   "execution_count": 36,
   "id": "9f6cdcf9-4f71-4e91-a70e-238d39215fe0",
   "metadata": {},
   "outputs": [
    {
     "data": {
      "text/plain": [
       "[<matplotlib.lines.Line2D at 0x1820d195f10>,\n",
       " <matplotlib.lines.Line2D at 0x1820d1834d0>,\n",
       " <matplotlib.lines.Line2D at 0x1820d13e450>]"
      ]
     },
     "execution_count": 36,
     "metadata": {},
     "output_type": "execute_result"
    },
    {
     "data": {
      "image/png": "[encoded data removed]",
      "text/plain": [
       "<Figure size 640x480 with 1 Axes>"
      ]
     },
     "metadata": {},
     "output_type": "display_data"
    }
   ],
   "source": [
    "plt.plot(t,t,'r-', t,t**2,'bs',t,t**3,'g^')"
   ]
  },
  {
   "cell_type": "code",
   "execution_count": 42,
   "id": "d2fa2e9d-6206-49d7-8c04-494cbb63670e",
   "metadata": {},
   "outputs": [],
   "source": [
    "data={\n",
    "    'a':np.arange(50),\n",
    "    'b':np.random.randint(0,50,50),\n",
    "    'c':np.random.randn(50)\n",
    "    \n",
    "}"
   ]
  },
  {
   "cell_type": "code",
   "execution_count": 44,
   "id": "a20144f4-ca13-4346-8e0d-8532089a0193",
   "metadata": {},
   "outputs": [],
   "source": [
    "data={\n",
    "    'a':np.arange(500),\n",
    "    'b':np.random.randint(0,50,50),\n",
    "    'c':np.random.randn(500)\n",
    "    \n",
    "}"
   ]
  },
  {
   "cell_type": "code",
   "execution_count": 38,
   "id": "89a2b2f0-08fa-4540-b08c-fda6fe811622",
   "metadata": {},
   "outputs": [
    {
     "data": {
      "text/plain": [
       "<matplotlib.collections.PathCollection at 0x1820cd9b9d0>"
      ]
     },
     "execution_count": 38,
     "metadata": {},
     "output_type": "execute_result"
    },
    {
     "data": {
      "image/png": "[encoded data removed]",
      "text/plain": [
       "<Figure size 640x480 with 1 Axes>"
      ]
     },
     "metadata": {},
     "output_type": "display_data"
    }
   ],
   "source": [
    "plt.scatter(data['a'],data['b'])"
   ]
  },
  {
   "cell_type": "code",
   "execution_count": 45,
   "id": "1be24bf4-1899-4b1f-abf8-ced6bf2b2e62",
   "metadata": {},
   "outputs": [
    {
     "data": {
      "text/plain": [
       "<matplotlib.collections.PathCollection at 0x18210a13150>"
      ]
     },
     "execution_count": 45,
     "metadata": {},
     "output_type": "execute_result"
    },
    {
     "data": {
      "image/png": "[encoded data removed]",
      "text/plain": [
       "<Figure size 640x480 with 1 Axes>"
      ]
     },
     "metadata": {},
     "output_type": "display_data"
    }
   ],
   "source": [
    "plt.scatter(data['a'],data['c'])"
   ]
  },
  {
   "cell_type": "code",
   "execution_count": null,
   "id": "0a3930af-7788-46cb-81a1-1cd4a321fc8f",
   "metadata": {},
   "outputs": [],
   "source": []
  }
 ],
 "metadata": {
  "kernelspec": {
   "display_name": "Python 3 (ipykernel)",
   "language": "python",
   "name": "python3"
  },
  "language_info": {
   "codemirror_mode": {
    "name": "ipython",
    "version": 3
   },
   "file_extension": ".py",
   "mimetype": "text/x-python",
   "name": "python",
   "nbconvert_exporter": "python",
   "pygments_lexer": "ipython3",
   "version": "3.11.7"
  }
 },
 "nbformat": 4,
 "nbformat_minor": 5
}
